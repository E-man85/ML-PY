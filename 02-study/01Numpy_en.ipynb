{
 "cells": [
  {
   "cell_type": "markdown",
   "id": "0a75c231",
   "metadata": {},
   "source": [
    "## Numpy\n",
    "\n",
    "https://numpy.org/"
   ]
  },
  {
   "cell_type": "markdown",
   "id": "3a27c131",
   "metadata": {},
   "source": [
    "● Numerical Python Linear Algebra Library\n",
    "\n",
    "● Fundamentals for Data Analysis and Machine Learning\n",
    "\n",
    "● Underlies SciPy, Matplotlib, Pandas, SciKit-Learn\n",
    "\n",
    "● Logical and mathematical operations with Arrays and Matrices\n",
    "\n",
    "● Allows you to manipulate large information"
   ]
  },
  {
   "cell_type": "markdown",
   "id": "2a7715eb",
   "metadata": {},
   "source": [
    "## Arrays\n",
    "\n",
    "An array is a data structure that stores a collection of elements of the same type, arranged in a contiguous sequence in memory. Each element in an array is accessed through a numerical index, which represents its position in the sequence.\n",
    "\n",
    "Arrays are used to efficiently store and manipulate sets of data. They can be used to store elements of primitive types such as integers, characters, floating point, as well as more complex objects.\n",
    "\n",
    "### Array features:\n",
    "\n",
    "All elements in an array must be of the same type. For example, an array of integers can only store integer values.\n",
    "\n",
    "The size of an array is determined at creation time and remains fixed throughout its lifetime. It is possible to access and update the individual array elements using their indices.\n",
    "\n",
    "Array indices generally start at zero and go up to the length of the array minus one. For example, in an array of size 5, valid indices are 0, 1, 2, 3, and 4.\n",
    "\n",
    "Elements of an array can be accessed efficiently since their position is determined by the index and the size of the array is known.\n",
    "\n",
    "The elements of an array are stored in contiguous memory locations, which allows direct and efficient access to the elements.\n",
    "\n",
    "Arrays can solve a variety of problems, from storing a list of values ​​to representing multidimensional arrays. Proper use of arrays can lead to more efficient algorithms and better organization of data in a program.\n",
    "![Image](https://raw.githubusercontent.com/E-man85/ML-PY/main/05-images/class2_image1.png)\n",
    "![Image](https://raw.githubusercontent.com/E-man85/ML-PY/main/05-images/class2_image2.png)\n",
    "\n",
    "### Matrix\n",
    "\n",
    "An array is a specialized form of array, specifically a two-dimensional data structure. It arranges the elements in rows and columns, creating a rectangular table. Each matrix element is identified by a pair of indices, one for the row and one for the column.\n",
    "\n",
    "![Image](https://raw.githubusercontent.com/E-man85/ML-PY/main/05-images/class2_image3.png)"
   ]
  },
  {
   "cell_type": "markdown",
   "id": "6ea00f8d",
   "metadata": {},
   "source": [
    "## Practice numpy"
   ]
  },
  {
   "cell_type": "code",
   "execution_count": 1,
   "id": "7f371e8d",
   "metadata": {},
   "outputs": [
    {
     "name": "stdout",
     "output_type": "stream",
     "text": [
      "[1, 2, 3, 4, 5]\n"
     ]
    },
    {
     "data": {
      "text/plain": [
       "array([1, 2, 3, 4, 5])"
      ]
     },
     "execution_count": 1,
     "metadata": {},
     "output_type": "execute_result"
    }
   ],
   "source": [
    "# Import package to workspace\n",
    "import numpy as np\n",
    "# create a list\n",
    "listnum = [1, 2, 3, 4, 5]\n",
    "print(listnum)\n",
    "# create array from list\n",
    "listnum = np.array(listnum)\n",
    "listnum"
   ]
  },
  {
   "cell_type": "code",
   "execution_count": 2,
   "id": "b42e3549",
   "metadata": {},
   "outputs": [
    {
     "data": {
      "text/plain": [
       "array([[1, 2, 3],\n",
       "       [5, 4, 1],\n",
       "       [3, 6, 7]])"
      ]
     },
     "execution_count": 2,
     "metadata": {},
     "output_type": "execute_result"
    }
   ],
   "source": [
    "# create array from a list of lists\n",
    "listtres = [[1,2,3], [5,4,1], [3,6,7]]\n",
    "listtres = np.array(listtres)\n",
    "listtres\n"
   ]
  },
  {
   "cell_type": "code",
   "execution_count": 3,
   "id": "acb6cf4a",
   "metadata": {},
   "outputs": [
    {
     "data": {
      "text/plain": [
       "array([0, 1, 2, 3, 4, 5, 6, 7, 8, 9])"
      ]
     },
     "execution_count": 3,
     "metadata": {},
     "output_type": "execute_result"
    }
   ],
   "source": [
    "# This function creates a one-dimensional array containing a sequence of integers, \n",
    "# starting from zero and going up to the specified (exclusive) number\n",
    "np.arange(10)"
   ]
  },
  {
   "cell_type": "code",
   "execution_count": 4,
   "id": "66e56bc1",
   "metadata": {},
   "outputs": [
    {
     "data": {
      "text/plain": [
       "array([0, 1, 2, 3, 4, 5, 6, 7, 8, 9])"
      ]
     },
     "execution_count": 4,
     "metadata": {},
     "output_type": "execute_result"
    }
   ],
   "source": [
    "#create a one-dimensional array containing a sequence of integers.\n",
    "#In this case, the arange function is used to generate a sequence of numbers starting at 0 and going up to 10 (exclusive).\n",
    "#Different from the previous example (np.arange(10)), an initial value (0) and an ending value (10) are specified here.\n",
    "np.arange(0,10)"
   ]
  },
  {
   "cell_type": "code",
   "execution_count": 5,
   "id": "487e1524",
   "metadata": {},
   "outputs": [
    {
     "data": {
      "text/plain": [
       "array([ 0,  2,  4,  6,  8, 10])"
      ]
     },
     "execution_count": 5,
     "metadata": {},
     "output_type": "execute_result"
    }
   ],
   "source": [
    "#The arange function also allows specifying a step (step) between elements, which by default is 1.\n",
    "# In this explosion the stem is 2\n",
    "np.arange(0,11,2)"
   ]
  },
  {
   "cell_type": "code",
   "execution_count": 6,
   "id": "1d44cf10",
   "metadata": {},
   "outputs": [
    {
     "data": {
      "text/plain": [
       "array([0., 0., 0., 0., 0., 0., 0.])"
      ]
     },
     "execution_count": 6,
     "metadata": {},
     "output_type": "execute_result"
    }
   ],
   "source": [
    "# A NumPy function that creates a one-dimensional array filled with zeros\n",
    "np.zeros(7)"
   ]
  },
  {
   "cell_type": "code",
   "execution_count": 7,
   "id": "42260747",
   "metadata": {},
   "outputs": [
    {
     "data": {
      "text/plain": [
       "array([1., 1., 1., 1., 1.])"
      ]
     },
     "execution_count": 7,
     "metadata": {},
     "output_type": "execute_result"
    }
   ],
   "source": [
    "# a NumPy function that creates a one-dimensional array filled with ones.\n",
    "np.ones(5)"
   ]
  },
  {
   "cell_type": "code",
   "execution_count": 8,
   "id": "6c2ac9ed",
   "metadata": {},
   "outputs": [
    {
     "data": {
      "text/plain": [
       "array([[0., 0., 0., 0., 0.],\n",
       "       [0., 0., 0., 0., 0.],\n",
       "       [0., 0., 0., 0., 0.]])"
      ]
     },
     "execution_count": 8,
     "metadata": {},
     "output_type": "execute_result"
    }
   ],
   "source": [
    "# create two-dimensional array of zeros\n",
    "np.zeros((3,5))"
   ]
  },
  {
   "cell_type": "code",
   "execution_count": 9,
   "id": "858f0c29",
   "metadata": {},
   "outputs": [
    {
     "data": {
      "text/plain": [
       "array([1.        , 1.14285714, 1.28571429, 1.42857143, 1.57142857,\n",
       "       1.71428571, 1.85714286, 2.        , 2.14285714, 2.28571429,\n",
       "       2.42857143, 2.57142857, 2.71428571, 2.85714286, 3.        ])"
      ]
     },
     "execution_count": 9,
     "metadata": {},
     "output_type": "execute_result"
    }
   ],
   "source": [
    "# using the linspace function\n",
    "#create a one-dimensional array using NumPy's np.linspace() function.\n",
    "# The linspace function generates a sequence of equally spaced numbers within a specified range.\n",
    "#create an array with 15 equally spaced elements, starting from the value 1 and going up to the value 3, inclusive.\n",
    "#The numbers are generated in such a way that there is an equal division between the range values.\n",
    "a = np.linspace(1, 3, 15)\n",
    "a"
   ]
  },
  {
   "cell_type": "code",
   "execution_count": 10,
   "id": "faf86fbd",
   "metadata": {},
   "outputs": [
    {
     "data": {
      "text/plain": [
       "array([[1., 0., 0., 0., 0., 0.],\n",
       "       [0., 1., 0., 0., 0., 0.],\n",
       "       [0., 0., 1., 0., 0., 0.],\n",
       "       [0., 0., 0., 1., 0., 0.],\n",
       "       [0., 0., 0., 0., 1., 0.],\n",
       "       [0., 0., 0., 0., 0., 1.]])"
      ]
     },
     "execution_count": 10,
     "metadata": {},
     "output_type": "execute_result"
    }
   ],
   "source": [
    "# is a NumPy function that creates a square matrix known as an identity matrix.\n",
    "#The eye function creates a matrix with ones on the main diagonal and zeros everywhere else.\n",
    "#In this case, np.eye(6) creates a matrix of dimensions 6x6, where all elements on the main diagonal are equal to 1\n",
    "# and all other positions are padded with zeros.\n",
    "#The np.eye() function also has an optional parameter called k, which indicates the position of the diagonal that will receive the ones.\n",
    "#By default, k=0, which means the ones will be on the main diagonal.\n",
    "# If k is a positive value, the ones will be on a diagonal above the main diagonal, and if k is a negative value,\n",
    "# the ones will be on a diagonal below the main diagonal\n",
    "np.eye(6)"
   ]
  },
  {
   "cell_type": "code",
   "execution_count": 11,
   "id": "97bda8e8",
   "metadata": {},
   "outputs": [
    {
     "data": {
      "text/plain": [
       "array([0.62350569, 0.7148921 , 0.08586289, 0.35784839])"
      ]
     },
     "execution_count": 11,
     "metadata": {},
     "output_type": "execute_result"
    }
   ],
   "source": [
    "#a NumPy function that generates a one-dimensional array with random values ​​following \n",
    "# a continuous uniform distribution over the interval [0, 1).\n",
    "np.random.rand(4)"
   ]
  },
  {
   "cell_type": "code",
   "execution_count": 12,
   "id": "bce3d8a3",
   "metadata": {},
   "outputs": [
    {
     "data": {
      "text/plain": [
       "array([[5.58630646e-01, 3.23639325e-01, 9.53133199e-01, 1.03424703e-01],\n",
       "       [6.42892626e-01, 3.50988271e-03, 1.45041247e-01, 5.68672659e-01],\n",
       "       [6.78107131e-01, 6.34348839e-01, 7.35469348e-01, 9.51270719e-01],\n",
       "       [9.24911539e-04, 2.75919888e-01, 5.30173124e-01, 7.19241387e-01],\n",
       "       [7.56492059e-01, 6.82722765e-01, 3.68786666e-02, 4.22609956e-01]])"
      ]
     },
     "execution_count": 12,
     "metadata": {},
     "output_type": "execute_result"
    }
   ],
   "source": [
    "# is a NumPy function that generates a two-dimensional array with random values ​​following \n",
    "# a continuous uniform distribution over the interval [0, 1).\n",
    "np.random.rand(5, 4)"
   ]
  },
  {
   "cell_type": "code",
   "execution_count": 13,
   "id": "d0e60faf",
   "metadata": {},
   "outputs": [
    {
     "data": {
      "text/plain": [
       "array([-0.26073175,  0.58382621, -1.11219997, -0.08710714,  0.12966729,\n",
       "        1.49134493,  2.042807  ])"
      ]
     },
     "execution_count": 13,
     "metadata": {},
     "output_type": "execute_result"
    }
   ],
   "source": [
    "# create arrays of random numbers that obey a normal distribution\n",
    "#is a NumPy function that generates a one-dimensional array with random values ​​\n",
    "# following a normal (Gaussian) distribution with mean zero and standard deviation one.\n",
    "np.random.randn(7)"
   ]
  },
  {
   "cell_type": "code",
   "execution_count": 14,
   "id": "e52d8bc6",
   "metadata": {},
   "outputs": [
    {
     "data": {
      "text/plain": [
       "array([[-1.68300434, -0.80772079,  0.37727426,  1.24464975, -0.33954802],\n",
       "       [-1.03812576, -1.84257389,  0.24225585, -1.32718366, -1.69888823],\n",
       "       [-0.58015477,  0.56949957,  0.30134693, -1.00252251,  1.12644038]])"
      ]
     },
     "execution_count": 14,
     "metadata": {},
     "output_type": "execute_result"
    }
   ],
   "source": [
    "# is a NumPy function that generates a two-dimensional matrix with random values ​​following \n",
    "# a normal (Gaussian) distribution with mean zero and standard deviation one.\n",
    "np.random.randn(3,5)"
   ]
  },
  {
   "cell_type": "code",
   "execution_count": 15,
   "id": "680dad12",
   "metadata": {},
   "outputs": [
    {
     "data": {
      "text/plain": [
       "array([[[-0.21046235,  0.69249358],\n",
       "        [-1.07294141, -0.66970291],\n",
       "        [-0.43171738,  0.09724604]],\n",
       "\n",
       "       [[-0.43403916,  1.15946312],\n",
       "        [-0.82095778,  0.67045944],\n",
       "        [ 0.27834362, -2.2442046 ]],\n",
       "\n",
       "       [[ 0.73448339, -0.72582584],\n",
       "        [ 0.0900707 ,  0.98294406],\n",
       "        [-0.02261035,  1.19740631]],\n",
       "\n",
       "       [[ 0.36173639, -2.75253068],\n",
       "        [ 0.27211973,  0.03355981],\n",
       "        [ 0.0089839 , -1.77909546]]])"
      ]
     },
     "execution_count": 15,
     "metadata": {},
     "output_type": "execute_result"
    }
   ],
   "source": [
    "#a three-dimensional matrix with 4 layers, 3 rows and 2 columns, \n",
    "# filled with random values ​​following the normal distribution.\n",
    "np.random.randn(4, 3, 2)"
   ]
  },
  {
   "cell_type": "code",
   "execution_count": 16,
   "id": "8c7d9ced",
   "metadata": {},
   "outputs": [
    {
     "name": "stdout",
     "output_type": "stream",
     "text": [
      "[0.16087128 0.1787149  0.50706216 0.73488563 0.6294645  0.62145686\n",
      " 0.54112197 0.54387645 0.45361836 0.77172075 0.28884474 0.78491206\n",
      " 0.00603458 0.57790655 0.30101693 0.30047962 0.46472515 0.68208158\n",
      " 0.23740169 0.90633832 0.10866265 0.20514342 0.09994115 0.18044162\n",
      " 0.11294948]\n"
     ]
    },
    {
     "data": {
      "text/plain": [
       "array([[0.16087128, 0.1787149 , 0.50706216, 0.73488563, 0.6294645 ],\n",
       "       [0.62145686, 0.54112197, 0.54387645, 0.45361836, 0.77172075],\n",
       "       [0.28884474, 0.78491206, 0.00603458, 0.57790655, 0.30101693],\n",
       "       [0.30047962, 0.46472515, 0.68208158, 0.23740169, 0.90633832],\n",
       "       [0.10866265, 0.20514342, 0.09994115, 0.18044162, 0.11294948]])"
      ]
     },
     "execution_count": 16,
     "metadata": {},
     "output_type": "execute_result"
    }
   ],
   "source": [
    "# convert one-dimensional array to two-dimensional\n",
    "arr = np.random.rand(25)\n",
    "print(arr)\n",
    "# NumPy's reshape() function is used to change the shape (shape) of an array, \n",
    "# that is, modify the number of dimensions and the size of the dimensions\n",
    "#In the specific case of this line of code, the arr array is being resized to a 5x5 matrix\n",
    "arr = arr.reshape(5,5)\n",
    "arr"
   ]
  },
  {
   "cell_type": "code",
   "execution_count": 17,
   "id": "d7f5e537",
   "metadata": {},
   "outputs": [
    {
     "data": {
      "text/plain": [
       "17"
      ]
     },
     "execution_count": 17,
     "metadata": {},
     "output_type": "execute_result"
    }
   ],
   "source": [
    "# create array of integers\n",
    "np.random.randint(20)"
   ]
  },
  {
   "cell_type": "code",
   "execution_count": 18,
   "id": "877c08f9",
   "metadata": {},
   "outputs": [
    {
     "data": {
      "text/plain": [
       "array([13,  5,  3,  2, 13, 16,  4, 19, 11,  8])"
      ]
     },
     "execution_count": 18,
     "metadata": {},
     "output_type": "execute_result"
    }
   ],
   "source": [
    "#The np.random.randint() function has three arguments: the minimum value (inclusive), \n",
    "# the maximum value (exclusive) and the size of the array you want to generate.\n",
    "#In the example, 0 is the minimum value, 20 is the maximum value and 10 is the array size\n",
    "np.random.randint(0, 20, 10) "
   ]
  },
  {
   "cell_type": "code",
   "execution_count": 19,
   "id": "30f67679",
   "metadata": {},
   "outputs": [
    {
     "name": "stdout",
     "output_type": "stream",
     "text": [
      "[[0 1]\n",
      " [2 3]\n",
      " [4 5]]\n"
     ]
    },
    {
     "data": {
      "text/plain": [
       "array([[0, 1, 2],\n",
       "       [3, 4, 5]])"
      ]
     },
     "execution_count": 19,
     "metadata": {},
     "output_type": "execute_result"
    }
   ],
   "source": [
    "# convert between dimensions\n",
    "a = np.arange(6).reshape((3, 2))\n",
    "print(a)\n",
    "# is used to change the form (shape) of an array, that is, modify the number of dimensions \n",
    "# and the size of the dimensions.\n",
    "#In the specific case of this line of code, the array a is being resized to a 2x3 matrix.\n",
    "a = np.reshape(a, (2, 3))\n",
    "a"
   ]
  },
  {
   "cell_type": "code",
   "execution_count": 20,
   "id": "ec9fcb7f",
   "metadata": {},
   "outputs": [
    {
     "name": "stdout",
     "output_type": "stream",
     "text": [
      "[ 7 19  0  1  3  6  5 10 14  0]\n",
      "\n",
      "Maximun\n",
      " 19\n",
      "\n",
      "Minimum\n",
      " 0\n",
      "\n",
      "Maximum Index\n",
      " 1\n",
      "\n",
      "Minimum Index\n",
      " 2\n"
     ]
    }
   ],
   "source": [
    "# minimum and maximum elements and indices\n",
    "arr2 = np.random.randint(0, 20, 10) \n",
    "print(arr2)\n",
    "#maximum\n",
    "print('\\nMaximun\\n',arr2.max()) \n",
    "#Minimum\n",
    "print('\\nMinimum\\n',arr2.min())\n",
    "#returns the index of the element with the maximum value in a NumPy one-dimensional arr2 array\n",
    "print('\\nMaximum Index\\n',arr2.argmax())\n",
    "#returns the index of the element with the minimum value in a NumPy one-dimensional arr2 array\n",
    "print('\\nMinimum Index\\n',arr2.argmin())"
   ]
  },
  {
   "cell_type": "code",
   "execution_count": 21,
   "id": "de801714",
   "metadata": {},
   "outputs": [
    {
     "name": "stdout",
     "output_type": "stream",
     "text": [
      "(5, 5)\n"
     ]
    },
    {
     "data": {
      "text/plain": [
       "(10,)"
      ]
     },
     "execution_count": 21,
     "metadata": {},
     "output_type": "execute_result"
    }
   ],
   "source": [
    "# arr array form\n",
    "print(arr.shape)\n",
    "# arr2 array shape\n",
    "arr2.shape"
   ]
  },
  {
   "cell_type": "code",
   "execution_count": 22,
   "id": "e59503fe",
   "metadata": {},
   "outputs": [
    {
     "name": "stdout",
     "output_type": "stream",
     "text": [
      "[0.38586344 0.51818744 0.77914256 0.6669204  0.5186676  0.88000338\n",
      " 0.40722588 0.48107223 0.39952936 0.54360849]\n"
     ]
    },
    {
     "data": {
      "text/plain": [
       "0.399529362679659"
      ]
     },
     "execution_count": 22,
     "metadata": {},
     "output_type": "execute_result"
    }
   ],
   "source": [
    "# indexing and selection of elements or groups of elements\n",
    "arr = np.random.rand(10)\n",
    "print(arr)\n",
    "arr[8] # element positioned at index 8\n"
   ]
  },
  {
   "cell_type": "code",
   "execution_count": 23,
   "id": "6121b8cc",
   "metadata": {},
   "outputs": [
    {
     "data": {
      "text/plain": [
       "array([0.77914256, 0.6669204 , 0.5186676 , 0.88000338])"
      ]
     },
     "execution_count": 23,
     "metadata": {},
     "output_type": "execute_result"
    }
   ],
   "source": [
    "# returns everything between indexes 2 and 6 (exclusive)\n",
    "arr[2:6]  "
   ]
  },
  {
   "cell_type": "code",
   "execution_count": 24,
   "id": "972141fb",
   "metadata": {},
   "outputs": [
    {
     "data": {
      "text/plain": [
       "array([0.38586344, 0.51818744, 0.77914256, 0.6669204 , 0.5186676 ,\n",
       "       0.88000338])"
      ]
     },
     "execution_count": 24,
     "metadata": {},
     "output_type": "execute_result"
    }
   ],
   "source": [
    "# returns everything between indexes 0 and 6 (exclusive)\n",
    "arr[:6]   "
   ]
  },
  {
   "cell_type": "code",
   "execution_count": 25,
   "id": "43efab29",
   "metadata": {},
   "outputs": [
    {
     "data": {
      "text/plain": [
       "array([0.88000338, 0.40722588, 0.48107223, 0.39952936, 0.54360849])"
      ]
     },
     "execution_count": 25,
     "metadata": {},
     "output_type": "execute_result"
    }
   ],
   "source": [
    "# returns everything between index 5 and the final index\n",
    "arr[5:] "
   ]
  },
  {
   "cell_type": "code",
   "execution_count": 26,
   "id": "0da623e2",
   "metadata": {},
   "outputs": [
    {
     "name": "stdout",
     "output_type": "stream",
     "text": [
      "[[10 20 30]\n",
      " [40 50 60]\n",
      " [70 80 90]]\n",
      "60\n"
     ]
    },
    {
     "data": {
      "text/plain": [
       "60"
      ]
     },
     "execution_count": 26,
     "metadata": {},
     "output_type": "execute_result"
    }
   ],
   "source": [
    "# in two dimensions...\n",
    "arr2d = np.array([[10,20,30], [40,50,60], [70,80,90]])\n",
    "print(arr2d)\n",
    "# the value 60 appears in the row with index 1 and column with index 2\n",
    "print(arr2d[1][2])\n",
    "# other way\n",
    "arr2d[1,2] "
   ]
  },
  {
   "cell_type": "code",
   "execution_count": 27,
   "id": "ed432093",
   "metadata": {},
   "outputs": [
    {
     "name": "stdout",
     "output_type": "stream",
     "text": [
      "[[20 30]\n",
      " [50 60]]\n",
      "[[10 20]\n",
      " [40 50]]\n"
     ]
    }
   ],
   "source": [
    "# subset or slice of the array\n",
    "arr2d[:1, :2]\n",
    "print(arr2d[:2, 1:])\n",
    "print(arr2d[:2, :2])"
   ]
  },
  {
   "cell_type": "code",
   "execution_count": 28,
   "id": "7627be34",
   "metadata": {},
   "outputs": [
    {
     "data": {
      "text/plain": [
       "array([10, 20, 30])"
      ]
     },
     "execution_count": 28,
     "metadata": {},
     "output_type": "execute_result"
    }
   ],
   "source": [
    "# the entire line with index 0\n",
    "arr2d[0]  "
   ]
  },
  {
   "cell_type": "code",
   "execution_count": 29,
   "id": "fe44d059",
   "metadata": {},
   "outputs": [
    {
     "data": {
      "text/plain": [
       "array([[10, 20, 30],\n",
       "       [40, 50, 60]])"
      ]
     },
     "execution_count": 29,
     "metadata": {},
     "output_type": "execute_result"
    }
   ],
   "source": [
    "# all rows with indices less than 2\n",
    "arr2d[:2] "
   ]
  },
  {
   "cell_type": "code",
   "execution_count": 30,
   "id": "a13befbd",
   "metadata": {},
   "outputs": [
    {
     "name": "stdout",
     "output_type": "stream",
     "text": [
      "[ 5  6  7  8  9 10 11 12 13 14]\n"
     ]
    },
    {
     "data": {
      "text/plain": [
       "array([False, False, False, False, False, False,  True,  True,  True,\n",
       "        True])"
      ]
     },
     "execution_count": 30,
     "metadata": {},
     "output_type": "execute_result"
    }
   ],
   "source": [
    "# selection with logical and conditional operators\n",
    "arr = np.arange(5,15)\n",
    "print(arr)\n",
    "# returns TRUE where elements are greater than 10\n",
    "arr > 10 "
   ]
  },
  {
   "cell_type": "code",
   "execution_count": 31,
   "id": "9dec0e98",
   "metadata": {},
   "outputs": [
    {
     "data": {
      "text/plain": [
       "array([False, False, False, False, False, False,  True,  True,  True,\n",
       "        True])"
      ]
     },
     "execution_count": 31,
     "metadata": {},
     "output_type": "execute_result"
    }
   ],
   "source": [
    "boolarr = arr > 10\n",
    "boolarr"
   ]
  },
  {
   "cell_type": "code",
   "execution_count": 32,
   "id": "0bf15560",
   "metadata": {},
   "outputs": [
    {
     "data": {
      "text/plain": [
       "array([11, 12, 13, 14])"
      ]
     },
     "execution_count": 32,
     "metadata": {},
     "output_type": "execute_result"
    }
   ],
   "source": [
    "# array elements greater than 10\n",
    "arr[boolarr] "
   ]
  },
  {
   "cell_type": "code",
   "execution_count": 33,
   "id": "eba40810",
   "metadata": {},
   "outputs": [
    {
     "data": {
      "text/plain": [
       "array([11, 12, 13, 14])"
      ]
     },
     "execution_count": 33,
     "metadata": {},
     "output_type": "execute_result"
    }
   ],
   "source": [
    "# same as above but with simpler approach\n",
    "arr[arr > 10]"
   ]
  },
  {
   "cell_type": "code",
   "execution_count": 34,
   "id": "4234ada9",
   "metadata": {},
   "outputs": [
    {
     "data": {
      "text/plain": [
       "array([7, 8, 9])"
      ]
     },
     "execution_count": 34,
     "metadata": {},
     "output_type": "execute_result"
    }
   ],
   "source": [
    "# combination of conditions\n",
    "arr[(arr > 6) & (arr < 10)]"
   ]
  },
  {
   "cell_type": "code",
   "execution_count": 35,
   "id": "0ed58639",
   "metadata": {},
   "outputs": [
    {
     "data": {
      "text/plain": [
       "array([50, 50, 50,  8,  9, 10, 11, 12, 13, 14])"
      ]
     },
     "execution_count": 35,
     "metadata": {},
     "output_type": "execute_result"
    }
   ],
   "source": [
    "# broadcasting - assignment of the value 50 to the first 3 elements of the array\n",
    "arr[0:3] = 50\n",
    "arr"
   ]
  },
  {
   "cell_type": "code",
   "execution_count": 36,
   "id": "b39f6c48",
   "metadata": {},
   "outputs": [
    {
     "data": {
      "text/plain": [
       "array([ 1,  2,  3,  4,  5,  6,  7,  8,  9, 10])"
      ]
     },
     "execution_count": 36,
     "metadata": {},
     "output_type": "execute_result"
    }
   ],
   "source": [
    "# arithmetic operations\n",
    "arr = np.arange(1,11)\n",
    "arr"
   ]
  },
  {
   "cell_type": "code",
   "execution_count": 37,
   "id": "da046a38",
   "metadata": {},
   "outputs": [
    {
     "data": {
      "text/plain": [
       "array([  1,   4,   9,  16,  25,  36,  49,  64,  81, 100])"
      ]
     },
     "execution_count": 37,
     "metadata": {},
     "output_type": "execute_result"
    }
   ],
   "source": [
    "# multiply\n",
    "arr * arr "
   ]
  },
  {
   "cell_type": "code",
   "execution_count": 38,
   "id": "7a16b9d4",
   "metadata": {},
   "outputs": [
    {
     "data": {
      "text/plain": [
       "array([0, 0, 0, 0, 0, 0, 0, 0, 0, 0])"
      ]
     },
     "execution_count": 38,
     "metadata": {},
     "output_type": "execute_result"
    }
   ],
   "source": [
    "# subtract\n",
    "arr - arr  "
   ]
  },
  {
   "cell_type": "code",
   "execution_count": 39,
   "id": "5c47e7f2",
   "metadata": {},
   "outputs": [
    {
     "data": {
      "text/plain": [
       "array([ 2,  4,  6,  8, 10, 12, 14, 16, 18, 20])"
      ]
     },
     "execution_count": 39,
     "metadata": {},
     "output_type": "execute_result"
    }
   ],
   "source": [
    "# he adds\n",
    "arr + arr  "
   ]
  },
  {
   "cell_type": "code",
   "execution_count": 40,
   "id": "36a18da0",
   "metadata": {},
   "outputs": [
    {
     "data": {
      "text/plain": [
       "array([1., 1., 1., 1., 1., 1., 1., 1., 1., 1.])"
      ]
     },
     "execution_count": 40,
     "metadata": {},
     "output_type": "execute_result"
    }
   ],
   "source": [
    "arr / arr  # divide"
   ]
  },
  {
   "cell_type": "code",
   "execution_count": 41,
   "id": "d03e3405",
   "metadata": {},
   "outputs": [
    {
     "data": {
      "text/plain": [
       "array([51, 52, 53, 54, 55, 56, 57, 58, 59, 60])"
      ]
     },
     "execution_count": 41,
     "metadata": {},
     "output_type": "execute_result"
    }
   ],
   "source": [
    "# add 50 to each array element\n",
    "arr + 50 "
   ]
  },
  {
   "cell_type": "code",
   "execution_count": 42,
   "id": "07c4abb4",
   "metadata": {},
   "outputs": [
    {
     "data": {
      "text/plain": [
       "array([1.        , 1.41421356, 1.73205081, 2.        , 2.23606798,\n",
       "       2.44948974, 2.64575131, 2.82842712, 3.        , 3.16227766])"
      ]
     },
     "execution_count": 42,
     "metadata": {},
     "output_type": "execute_result"
    }
   ],
   "source": [
    "# function application\n",
    "# square root of each element\n",
    "np.sqrt(arr)  "
   ]
  },
  {
   "cell_type": "code",
   "execution_count": 43,
   "id": "50d86ee2",
   "metadata": {},
   "outputs": [
    {
     "data": {
      "text/plain": [
       "array([2.71828183e+00, 7.38905610e+00, 2.00855369e+01, 5.45981500e+01,\n",
       "       1.48413159e+02, 4.03428793e+02, 1.09663316e+03, 2.98095799e+03,\n",
       "       8.10308393e+03, 2.20264658e+04])"
      ]
     },
     "execution_count": 43,
     "metadata": {},
     "output_type": "execute_result"
    }
   ],
   "source": [
    "# exponential\n",
    "np.exp(arr)   "
   ]
  },
  {
   "cell_type": "code",
   "execution_count": 44,
   "id": "43a89d54",
   "metadata": {},
   "outputs": [
    {
     "data": {
      "text/plain": [
       "array([ 0.84147098,  0.90929743,  0.14112001, -0.7568025 , -0.95892427,\n",
       "       -0.2794155 ,  0.6569866 ,  0.98935825,  0.41211849, -0.54402111])"
      ]
     },
     "execution_count": 44,
     "metadata": {},
     "output_type": "execute_result"
    }
   ],
   "source": [
    "np.sin(arr) # sin"
   ]
  },
  {
   "cell_type": "code",
   "execution_count": 45,
   "id": "01db80ca",
   "metadata": {},
   "outputs": [
    {
     "data": {
      "text/plain": [
       "array([ 0.54030231, -0.41614684, -0.9899925 , -0.65364362,  0.28366219,\n",
       "        0.96017029,  0.75390225, -0.14550003, -0.91113026, -0.83907153])"
      ]
     },
     "execution_count": 45,
     "metadata": {},
     "output_type": "execute_result"
    }
   ],
   "source": [
    "np.cos(arr) # cosine"
   ]
  },
  {
   "cell_type": "code",
   "execution_count": 46,
   "id": "e9ff86b6",
   "metadata": {},
   "outputs": [
    {
     "data": {
      "text/plain": [
       "array([0.        , 0.69314718, 1.09861229, 1.38629436, 1.60943791,\n",
       "       1.79175947, 1.94591015, 2.07944154, 2.19722458, 2.30258509])"
      ]
     },
     "execution_count": 46,
     "metadata": {},
     "output_type": "execute_result"
    }
   ],
   "source": [
    "np.log(arr) # logarithm"
   ]
  },
  {
   "cell_type": "code",
   "execution_count": 47,
   "id": "60772586",
   "metadata": {},
   "outputs": [
    {
     "data": {
      "text/plain": [
       "55"
      ]
     },
     "execution_count": 47,
     "metadata": {},
     "output_type": "execute_result"
    }
   ],
   "source": [
    "np.sum(arr) # sum"
   ]
  },
  {
   "cell_type": "code",
   "execution_count": 48,
   "id": "47cdda65",
   "metadata": {},
   "outputs": [
    {
     "data": {
      "text/plain": [
       "2.8722813232690143"
      ]
     },
     "execution_count": 48,
     "metadata": {},
     "output_type": "execute_result"
    }
   ],
   "source": [
    "np.std(arr) # standard deviation"
   ]
  },
  {
   "cell_type": "code",
   "execution_count": 49,
   "id": "ac7d6249",
   "metadata": {},
   "outputs": [
    {
     "data": {
      "text/plain": [
       "5.5"
      ]
     },
     "execution_count": 49,
     "metadata": {},
     "output_type": "execute_result"
    }
   ],
   "source": [
    "np.mean(arr) # mean"
   ]
  },
  {
   "cell_type": "code",
   "execution_count": 50,
   "id": "765593ec",
   "metadata": {},
   "outputs": [
    {
     "data": {
      "text/plain": [
       "array([[ 1,  2,  3,  4,  5],\n",
       "       [ 6,  7,  8,  9, 10],\n",
       "       [11, 12, 13, 14, 15],\n",
       "       [16, 17, 18, 19, 20],\n",
       "       [21, 22, 23, 24, 25]])"
      ]
     },
     "execution_count": 50,
     "metadata": {},
     "output_type": "execute_result"
    }
   ],
   "source": [
    "# sum of array elements (total, by row or column)\n",
    "mat = np.arange(1,26).reshape(5,5)\n",
    "mat"
   ]
  },
  {
   "cell_type": "code",
   "execution_count": 51,
   "id": "c5ddc776",
   "metadata": {},
   "outputs": [
    {
     "data": {
      "text/plain": [
       "325"
      ]
     },
     "execution_count": 51,
     "metadata": {},
     "output_type": "execute_result"
    }
   ],
   "source": [
    "mat.sum() #sum of array elements"
   ]
  },
  {
   "cell_type": "code",
   "execution_count": 52,
   "id": "2a575db4",
   "metadata": {},
   "outputs": [
    {
     "data": {
      "text/plain": [
       "array([55, 60, 65, 70, 75])"
      ]
     },
     "execution_count": 52,
     "metadata": {},
     "output_type": "execute_result"
    }
   ],
   "source": [
    "# calculate the sum of the elements of a mat matrix along the 0 axis. that is,\n",
    "#  we are summing the elements of each column\n",
    "mat.sum(axis=0)"
   ]
  },
  {
   "cell_type": "code",
   "execution_count": 53,
   "id": "35867316",
   "metadata": {},
   "outputs": [
    {
     "data": {
      "text/plain": [
       "array([ 15,  40,  65,  90, 115])"
      ]
     },
     "execution_count": 53,
     "metadata": {},
     "output_type": "execute_result"
    }
   ],
   "source": [
    "# calculate the sum of the elements of a mat matrix along the 1 axis. i.e. we are summing the elements of each row\n",
    "mat.sum(axis=1) "
   ]
  },
  {
   "cell_type": "code",
   "execution_count": 54,
   "id": "60667186",
   "metadata": {},
   "outputs": [
    {
     "data": {
      "text/plain": [
       "array([  1.   ,   5.55 , 123.   ,   0.567,  25.532])"
      ]
     },
     "execution_count": 54,
     "metadata": {},
     "output_type": "execute_result"
    }
   ],
   "source": [
    "# other operations\n",
    "t = np.array([1.0,5.55, 123, 0.567, 25.532]) \n",
    "t"
   ]
  },
  {
   "cell_type": "code",
   "execution_count": 55,
   "id": "a189669f",
   "metadata": {},
   "outputs": [
    {
     "data": {
      "text/plain": [
       "array([  1.,   6., 123.,   1.,  26.])"
      ]
     },
     "execution_count": 55,
     "metadata": {},
     "output_type": "execute_result"
    }
   ],
   "source": [
    "# evenly round to the given number of decimals\n",
    "np.around(t) "
   ]
  },
  {
   "cell_type": "code",
   "execution_count": 56,
   "id": "c593a15a",
   "metadata": {},
   "outputs": [
    {
     "data": {
      "text/plain": [
       "array([  1. ,   5.6, 123. ,   0.6,  25.5])"
      ]
     },
     "execution_count": 56,
     "metadata": {},
     "output_type": "execute_result"
    }
   ],
   "source": [
    "np.around(t, decimals = 1) "
   ]
  },
  {
   "cell_type": "code",
   "execution_count": 57,
   "id": "065aab3f",
   "metadata": {},
   "outputs": [
    {
     "data": {
      "text/plain": [
       "array([  1.,   6., 123.,   1.,  26.])"
      ]
     },
     "execution_count": 57,
     "metadata": {},
     "output_type": "execute_result"
    }
   ],
   "source": [
    " # return the ceiling of the input, element-wise.\n",
    "np.ceil(t) "
   ]
  },
  {
   "cell_type": "code",
   "execution_count": 58,
   "id": "9e3eec84",
   "metadata": {},
   "outputs": [
    {
     "data": {
      "text/plain": [
       "array([  1.,   5., 123.,   0.,  25.])"
      ]
     },
     "execution_count": 58,
     "metadata": {},
     "output_type": "execute_result"
    }
   ],
   "source": [
    "np.fix(t)   # round to nearest integer towards zero."
   ]
  },
  {
   "cell_type": "code",
   "execution_count": 59,
   "id": "ab89cf6b",
   "metadata": {},
   "outputs": [
    {
     "data": {
      "text/plain": [
       "array([  1.,   5., 123.,   0.,  25.])"
      ]
     },
     "execution_count": 59,
     "metadata": {},
     "output_type": "execute_result"
    }
   ],
   "source": [
    "np.floor(t) # return the floor of the input, element-wise."
   ]
  },
  {
   "cell_type": "code",
   "execution_count": 60,
   "id": "2ecda3df",
   "metadata": {},
   "outputs": [
    {
     "data": {
      "text/plain": [
       "array([  1.,   6., 123.,   1.,  26.])"
      ]
     },
     "execution_count": 60,
     "metadata": {},
     "output_type": "execute_result"
    }
   ],
   "source": [
    "#The np.rint() function rounds the elements of t according to the following rules:\n",
    "#If the element is exactly in the middle of the range between two integers, the closest integer is returned,\n",
    "# being rounded to the nearest even number in case of a tie.\n",
    "# If the element is closer to the larger integer, it is rounded up.\n",
    "# If the element is closer to the smallest integer, it is rounded down.\n",
    "np.rint(t)  # round elements of the array to the nearest integer."
   ]
  },
  {
   "cell_type": "code",
   "execution_count": 61,
   "id": "f9c0eec9",
   "metadata": {},
   "outputs": [
    {
     "data": {
      "text/plain": [
       "array([  1.,   5., 123.,   0.,  25.])"
      ]
     },
     "execution_count": 61,
     "metadata": {},
     "output_type": "execute_result"
    }
   ],
   "source": [
    "# returns the integer part of each element in an array t, discarding decimal values.\n",
    "np.trunc(t) "
   ]
  },
  {
   "cell_type": "code",
   "execution_count": 62,
   "id": "8f5e6d33",
   "metadata": {},
   "outputs": [
    {
     "data": {
      "text/plain": [
       "array([[ 1.        ,  1.64285714,  2.28571429,  2.92857143,  3.57142857],\n",
       "       [ 4.21428571,  4.85714286,  5.5       ,  6.14285714,  6.78571429],\n",
       "       [ 7.42857143,  8.07142857,  8.71428571,  9.35714286, 10.        ]])"
      ]
     },
     "execution_count": 62,
     "metadata": {},
     "output_type": "execute_result"
    }
   ],
   "source": [
    "# numpy multiple operators\n",
    "a = np.linspace(1,10,15).reshape(3, 5)\n",
    "a"
   ]
  },
  {
   "cell_type": "code",
   "execution_count": 63,
   "id": "7ce6a3e6",
   "metadata": {},
   "outputs": [
    {
     "data": {
      "text/plain": [
       "(3, 5)"
      ]
     },
     "execution_count": 63,
     "metadata": {},
     "output_type": "execute_result"
    }
   ],
   "source": [
    "a.shape # array shape"
   ]
  },
  {
   "cell_type": "code",
   "execution_count": 64,
   "id": "1649d088",
   "metadata": {},
   "outputs": [
    {
     "data": {
      "text/plain": [
       "2"
      ]
     },
     "execution_count": 64,
     "metadata": {},
     "output_type": "execute_result"
    }
   ],
   "source": [
    "a.ndim # array dimension"
   ]
  },
  {
   "cell_type": "code",
   "execution_count": 65,
   "id": "2dde8e7f",
   "metadata": {},
   "outputs": [
    {
     "data": {
      "text/plain": [
       "'float64'"
      ]
     },
     "execution_count": 65,
     "metadata": {},
     "output_type": "execute_result"
    }
   ],
   "source": [
    "a.dtype.name # type of variable stored in the array"
   ]
  },
  {
   "cell_type": "code",
   "execution_count": 66,
   "id": "03921c9e",
   "metadata": {},
   "outputs": [
    {
     "data": {
      "text/plain": [
       "15"
      ]
     },
     "execution_count": 66,
     "metadata": {},
     "output_type": "execute_result"
    }
   ],
   "source": [
    "a.size # number of array elements"
   ]
  },
  {
   "cell_type": "code",
   "execution_count": 67,
   "id": "633d7974",
   "metadata": {},
   "outputs": [
    {
     "data": {
      "text/plain": [
       "numpy.ndarray"
      ]
     },
     "execution_count": 67,
     "metadata": {},
     "output_type": "execute_result"
    }
   ],
   "source": [
    "type(a)  # object type (in this case it identifies as array)"
   ]
  },
  {
   "cell_type": "code",
   "execution_count": 68,
   "id": "e39e6138",
   "metadata": {},
   "outputs": [
    {
     "data": {
      "text/plain": [
       "array([[ 1.        ,  4.21428571,  7.42857143],\n",
       "       [ 1.64285714,  4.85714286,  8.07142857],\n",
       "       [ 2.28571429,  5.5       ,  8.71428571],\n",
       "       [ 2.92857143,  6.14285714,  9.35714286],\n",
       "       [ 3.57142857,  6.78571429, 10.        ]])"
      ]
     },
     "execution_count": 68,
     "metadata": {},
     "output_type": "execute_result"
    }
   ],
   "source": [
    "a.T # transposition\n",
    "np.transpose(a) # another way to call the command"
   ]
  },
  {
   "cell_type": "code",
   "execution_count": 69,
   "id": "0817993c",
   "metadata": {},
   "outputs": [
    {
     "data": {
      "text/plain": [
       "array([ 1.        ,  2.64285714,  4.92857143,  7.85714286, 11.42857143,\n",
       "       15.64285714, 20.5       , 26.        , 32.14285714, 38.92857143,\n",
       "       46.35714286, 54.42857143, 63.14285714, 72.5       , 82.5       ])"
      ]
     },
     "execution_count": 69,
     "metadata": {},
     "output_type": "execute_result"
    }
   ],
   "source": [
    "a.cumsum()  # cumulative sum   \n",
    "np.cumsum(a) # another way to call the command "
   ]
  },
  {
   "cell_type": "code",
   "execution_count": 70,
   "id": "de160721",
   "metadata": {},
   "outputs": [
    {
     "data": {
      "text/plain": [
       "array([ 1.        ,  1.64285714,  2.28571429,  2.92857143,  3.57142857,\n",
       "        4.21428571,  4.85714286,  5.5       ,  6.14285714,  6.78571429,\n",
       "        7.42857143,  8.07142857,  8.71428571,  9.35714286, 10.        ])"
      ]
     },
     "execution_count": 70,
     "metadata": {},
     "output_type": "execute_result"
    }
   ],
   "source": [
    "a = a.flatten() # transform the array to one-dimensional\n",
    "a"
   ]
  }
 ],
 "metadata": {
  "kernelspec": {
   "display_name": "Python 3 (ipykernel)",
   "language": "python",
   "name": "python3"
  },
  "language_info": {
   "codemirror_mode": {
    "name": "ipython",
    "version": 3
   },
   "file_extension": ".py",
   "mimetype": "text/x-python",
   "name": "python",
   "nbconvert_exporter": "python",
   "pygments_lexer": "ipython3",
   "version": "3.8.16"
  }
 },
 "nbformat": 4,
 "nbformat_minor": 5
}
