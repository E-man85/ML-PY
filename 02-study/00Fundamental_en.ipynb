{
 "cells": [
  {
   "cell_type": "markdown",
   "metadata": {},
   "source": [
    "# Fundamental Machine Learning in Python\n",
    "\n",
    "### Python/ Anaconda/ Spyder/ Numpy (Arrays), Matplotlib/Seaborn (Graphics)"
   ]
  },
  {
   "cell_type": "markdown",
   "metadata": {},
   "source": [
    "### Anaconda\n",
    "\n",
    "https://www.anaconda.com/\n",
    "\n",
    "- It is a free and open source distribution of the Python and R programming languages, used for data science and scientific computing.\n",
    "- Built to simplify the management and deployment of software packages.\n",
    "- Uses a package management system called Conda that allows you to install multiple software packages more easily and efficiently.\n",
    "- Allows you to create virtual environments, which are isolated spaces where software packages can be installed without interfering with each other.\n",
    "- Comes with a large collection of data science and machine learning packages pre-installed.\n",
    "- Jupyter Notebooks, an interactive programming environment."
   ]
  },
  {
   "cell_type": "markdown",
   "metadata": {},
   "source": [
    "### Create environment in anaconda\n",
    "\n",
    "Let's use a YAML file to specify all the libraries and dependencies in our environment.\n",
    "\n",
    "This file can be shared across teams, so everyone can work equally.\n",
    "\n",
    "Alternatively we would have to install all the libraries via the anaconda interface.\n",
    "\n",
    "1. Create a YAML file that lists all of your project's dependencies **mlearn.yml**\n",
    "\n",
    "```\n",
    "name: mlearn\n",
    "channels:\n",
    "  - defaults\n",
    "  - conda-forge\n",
    "dependencies:\n",
    "  - python=3.8\n",
    "  - pandas\n",
    "  - pandas-profiling # generate data reports\n",
    "  - scikit-learn\n",
    "  - matplotlib\n",
    "  - seaborn\n",
    "  - statsmodels\n",
    "  - yellowbrick      # scikit-learn extra visual\n",
    "  - xlrd             # for excell files\n",
    "  - shap             # mlearn model output\n",
    "  - spyder\n",
    "  - pydotplus        # plot decision trees\n",
    "  - lightgbm         # gradient boosting tree\n",
    "```\n",
    "2. To create the environment from the environment.yml file, you need to run the following command in the terminal:\n",
    "```\n",
    "conda env create -f mlearn.yml\n",
    "```\n",
    "3. Activate the environment with the following command:\n",
    "```\n",
    "conda activate mlearn\n",
    "```\n",
    "You can now start working on your new environment with all the necessary dependencies already installed"
   ]
  },
  {
   "cell_type": "markdown",
   "metadata": {},
   "source": [
    "### Python Ecosystem\n",
    "\n",
    "![alt text](https://raw.githubusercontent.com/E-man85/ML-PY/main/images/class1_image1.png)\n"
   ]
  },
  {
   "cell_type": "markdown",
   "metadata": {},
   "source": [
    "### Python\n",
    "\n",
    "https://www.python.org/\n",
    "- It is a high-level, interpreted, scripting, imperative, object-oriented, functional, dynamically typed, strong programming language.\n",
    "- Widely used for the development of solutions in several areas, such as web development, data analysis, machine learning, artificial intelligence, data science, automation, among others.\n",
    "- The language has a large community of developers and a vast collection of libraries and frameworks, such as Django for web development, NumPy and Pandas for data manipulation, and TensorFlow and PyTorch for machine learning.\n",
    "- Task automation\n",
    "- Software development using object-oriented programming techniques."
   ]
  },
  {
   "cell_type": "markdown",
   "metadata": {},
   "source": [
    "### IPython\n",
    "\n",
    "https://ipython.org/\n",
    "- Interactive Python interpreter that was designed to improve the user experience over the standard Python console\n",
    "- Additional features such as interactive code editing, command history, automatic tabbing, support for Markdown markup language, among others.\n",
    "- Provides a notebook environment (Jupyter Notebook)"
   ]
  },
  {
   "cell_type": "markdown",
   "metadata": {},
   "source": [
    "### NumPY\n",
    "\n",
    "https://numpy.org/\n",
    "- Scientific computing library for Python that provides support for multidimensional arrays and matrices, as well as a wide range of mathematical functions for working with these data structures.\n",
    "- It's fast, efficient and offers a simple and intuitive syntax for manipulating numerical data in Python."
   ]
  },
  {
   "cell_type": "code",
   "execution_count": 1,
   "metadata": {},
   "outputs": [
    {
     "name": "stdout",
     "output_type": "stream",
     "text": [
      "[[ 0  1  2  3  4]\n",
      " [ 5  6  7  8  9]\n",
      " [10 11 12 13 14]]\n",
      "(3, 5)\n",
      "2\n",
      "int32\n",
      "4\n",
      "<class 'numpy.ndarray'>\n"
     ]
    }
   ],
   "source": [
    "# numpy example\n",
    "import numpy as np # import library\n",
    "\"\"\"\n",
    "This line of code creates a two-dimensional array of 3 lines and\n",
    "5 columns, with values ​​from 0 to 14, using NumPy's arange() function\n",
    "to generate the values ​​and the reshape() function to adjust\n",
    "the dimensions of the matrix. The result is stored in the variable a.\n",
    "\"\"\"\n",
    "a = np.arange(15).reshape(3, 5) \n",
    "# see matrix\n",
    "print(a) \n",
    "# shape method see array dimensions (3 rows and 5 columns)\n",
    "print(a.shape)\n",
    "# ndim is an attribute of the NumPy object that shows the dimension (number of axes) of the array.\n",
    "print(a.ndim)\n",
    "# a.dtype.name returns the data type name of the array elements a \n",
    "print(a.dtype.name)\n",
    "# a.itemsize returns the size in bytes of each element of the array a\n",
    "print(a.itemsize)\n",
    "# type(a) returns the type of variable a\n",
    "print(type(a))"
   ]
  },
  {
   "cell_type": "markdown",
   "metadata": {},
   "source": [
    "### SciPY\n",
    "\n",
    "https://scipy.org/\n",
    "\n",
    "- Used for scientific computing\n",
    "- It is based on NumPy and provides a collection of mathematical algorithms and functions\n",
    "- It is often used in conjunction with other data science libraries like NumPy, Pandas and Matplotlib"
   ]
  },
  {
   "cell_type": "code",
   "execution_count": 2,
   "metadata": {},
   "outputs": [
    {
     "name": "stdout",
     "output_type": "stream",
     "text": [
      "2.0\n"
     ]
    }
   ],
   "source": [
    "'''\n",
    "Example\n",
    "Evaluate the integral of the function sine(x) over the interval [0, pi].\n",
    "To do this, we can use the quad function from the integrate module of the SciPy library.\n",
    "'''\n",
    "from scipy import integrate\n",
    "import numpy as np\n",
    "# Defining the function to be integrated\n",
    "def f(x):\n",
    "    return np.sin(x)\n",
    "# Calculating the integral of the function over the interval [0, pi]\n",
    "result, error = integrate.quad(f, 0, np.pi)\n",
    "# printing the result\n",
    "print(result)"
   ]
  },
  {
   "cell_type": "markdown",
   "metadata": {},
   "source": [
    "### Matplotlib\n",
    "\n",
    "https://matplotlib.org/\n",
    "\n",
    "- Matplotlib is a graphical plotting library for the Python programming language and its mathematical extension NumPy.\n",
    "\n",
    "- Allows the creation of different types of graphics,\n",
    "\n",
    "- It is possible to customize various aspects of the charts, such as colors, sizes, labels and legends."
   ]
  },
  {
   "cell_type": "code",
   "execution_count": 3,
   "metadata": {},
   "outputs": [
    {
     "data": {
      "image/png": "[encoded data removed]",
      "text/plain": [
       "<Figure size 640x480 with 1 Axes>"
      ]
     },
     "metadata": {},
     "output_type": "display_data"
    }
   ],
   "source": [
    "'''\n",
    "Example\n",
    "Generate a simple graph of a sine curve.\n",
    "'''\n",
    "import matplotlib.pyplot as plt\n",
    "import numpy as np\n",
    "# data for plotting\n",
    "x = np.linspace(0, 10, 100)\n",
    "y = np.sin(x)\n",
    "# chart creation\n",
    "plt.plot(x, y)\n",
    "# chart setup\n",
    "plt.xlabel('Eixo x')\n",
    "plt.ylabel('Eixo y')\n",
    "plt.title('Título gráfico')\n",
    "# chart display\n",
    "plt.show()"
   ]
  },
  {
   "cell_type": "markdown",
   "metadata": {},
   "source": [
    "### Pandas\n",
    "\n",
    "https://pandas.pydata.org/\n",
    "\n",
    "- It is a software library for data analysis in Python.\n",
    "- Provides frameworks and data analysis tools for data manipulation and visualization.\n",
    "- Used to work with structured data, and offers functionalities for reading, writing and manipulating data in different formats.\n",
    "- It is also useful for tasks such as data cleansing, data aggregation, time series manipulation, merging and joining of datasets."
   ]
  },
  {
   "cell_type": "code",
   "execution_count": 4,
   "metadata": {},
   "outputs": [
    {
     "name": "stdout",
     "output_type": "stream",
     "text": [
      "    Nome  Idade Sexo\n",
      "0   João     28    M\n",
      "1  Maria     32    F\n",
      "2    Ana     25    F\n",
      "3  Pedro     41    M\n"
     ]
    }
   ],
   "source": [
    "'''\n",
    "Example\n",
    "creating a DataFrame from a dictionary\n",
    "'''\n",
    "import pandas as pd\n",
    "# creating a dictionary\n",
    "dados = {'Nome': ['João', 'Maria', 'Ana', 'Pedro'],\n",
    "         'Idade': [28, 32, 25, 41],\n",
    "         'Sexo': ['M', 'F', 'F', 'M']}\n",
    "# Creating a DataFrame from the dictionary\n",
    "df = pd.DataFrame(dados)\n",
    "# Displaying the DataFrame\n",
    "print(df)"
   ]
  },
  {
   "cell_type": "markdown",
   "metadata": {},
   "source": [
    "### Sckit-learn\n",
    "\n",
    "https://scikit-learn.org/stable/\n",
    "- Machine learning library in Python that provides various tools for building supervised and unsupervised learning models, as well as for pre-processing and evaluating data.\n",
    "- It also offers functions for model selection, hyperparameter tuning and cross-validation"
   ]
  },
  {
   "cell_type": "code",
   "execution_count": 5,
   "metadata": {},
   "outputs": [
    {
     "name": "stdout",
     "output_type": "stream",
     "text": [
      "[11. 13. 15.]\n"
     ]
    }
   ],
   "source": [
    "'''\n",
    "Example\n",
    "We created a simple linear regression model to predict the relationship between variables X and y.\n",
    "First, we define the training data (X_train and y_train) and then we instantiate the LinearRegression() model.\n",
    "We then train the model with the training data using the fit() method.\n",
    "Then we define the test data (X_test) and make predictions using the predict() method.\n",
    "'''\n",
    "from sklearn.linear_model import LinearRegression\n",
    "# Set training data\n",
    "X_train = [[1], [2], [3], [4]]\n",
    "y_train = [3, 5, 7, 9]\n",
    "# instantiate the model\n",
    "model = LinearRegression()\n",
    "# train the model\n",
    "model.fit(X_train, y_train)\n",
    "# Define the test data\n",
    "X_test = [[5], [6], [7]]\n",
    "# Make predictions\n",
    "predictions = model.predict(X_test)\n",
    "# print the forecasts\n",
    "print(predictions)"
   ]
  },
  {
   "cell_type": "markdown",
   "metadata": {},
   "source": [
    "### StatsModels Statistics in python\n",
    "\n",
    "https://www.statsmodels.org/0.6.1/\n",
    "\n",
    "- Provides a wide range of statistical tools for data analysis, modeling and inference.\n",
    "- Contains several modules, linear and logistic regression, time series analysis, survival analysis, categorical data analysis, analysis of variance (ANOVA) and statistical tests.\n",
    "- Includes tools for data visualization and model diagnostics, such as residual plots and Q-Q plots.\n",
    "- Ease of use and comprehensive documentation."
   ]
  },
  {
   "cell_type": "code",
   "execution_count": 6,
   "metadata": {},
   "outputs": [
    {
     "name": "stdout",
     "output_type": "stream",
     "text": [
      "                            OLS Regression Results                            \n",
      "==============================================================================\n",
      "Dep. Variable:                Lottery   R-squared:                       0.348\n",
      "Model:                            OLS   Adj. R-squared:                  0.333\n",
      "Method:                 Least Squares   F-statistic:                     22.20\n",
      "Date:                Sun, 06 Aug 2023   Prob (F-statistic):           1.90e-08\n",
      "Time:                        17:51:53   Log-Likelihood:                -379.82\n",
      "No. Observations:                  86   AIC:                             765.6\n",
      "Df Residuals:                      83   BIC:                             773.0\n",
      "Df Model:                           2                                         \n",
      "Covariance Type:            nonrobust                                         \n",
      "===================================================================================\n",
      "                      coef    std err          t      P>|t|      [0.025      0.975]\n",
      "-----------------------------------------------------------------------------------\n",
      "Intercept         246.4341     35.233      6.995      0.000     176.358     316.510\n",
      "Literacy           -0.4889      0.128     -3.832      0.000      -0.743      -0.235\n",
      "np.log(Pop1831)   -31.3114      5.977     -5.239      0.000     -43.199     -19.424\n",
      "==============================================================================\n",
      "Omnibus:                        3.713   Durbin-Watson:                   2.019\n",
      "Prob(Omnibus):                  0.156   Jarque-Bera (JB):                3.394\n",
      "Skew:                          -0.487   Prob(JB):                        0.183\n",
      "Kurtosis:                       3.003   Cond. No.                         702.\n",
      "==============================================================================\n",
      "\n",
      "Notes:\n",
      "[1] Standard Errors assume that the covariance matrix of the errors is correctly specified.\n"
     ]
    }
   ],
   "source": [
    "# Example\n",
    "import numpy as np\n",
    "import statsmodels.api as sm \n",
    "import statsmodels.formula.api as smf\n",
    "# Load data\n",
    "dat = sm.datasets.get_rdataset(\"Guerry\", \"HistData\").data\n",
    "# Fit regression model (using the natural log of one of the regressors)\n",
    "results = smf.ols('Lottery ~ Literacy + np.log(Pop1831)', data=dat).fit()\n",
    "# Inspect the results\n",
    "print(results.summary())"
   ]
  },
  {
   "cell_type": "markdown",
   "metadata": {},
   "source": [
    "### Seaborn\n",
    "\n",
    "https://seaborn.pydata.org/\n",
    "\n",
    "- Data visualization library in Python, based on Matplotlib.\n",
    "- Designed to work well with Pandas data frames and NumPy arrays.\n",
    "- Provides capabilities for working with multiple datasets, including categorical data, time series data, and network data."
   ]
  },
  {
   "cell_type": "code",
   "execution_count": 7,
   "metadata": {},
   "outputs": [
    {
     "data": {
      "image/png": "[encoded data removed]",
      "text/plain": [
       "<Figure size 640x480 with 1 Axes>"
      ]
     },
     "metadata": {},
     "output_type": "display_data"
    }
   ],
   "source": [
    "'''\n",
    "Example\n",
    "visualize the relationship between two variables using a scatterplot (scatterplot)\n",
    "This code loads the \"tips\" dataset included in the Seaborn library and creates a scatterplot.\n",
    "with the bill total (total_bill) on the x-axis and the tip amount (tip) on the y-axis.\n",
    "The sns.scatterplot() function creates the scatter plot, while plt.show() displays the plot on the screen.\n",
    "'''\n",
    "import seaborn as sns\n",
    "import matplotlib.pyplot as plt\n",
    "# Load example dataset\n",
    "tips = sns.load_dataset(\"tips\")\n",
    "# Create scatterplot\n",
    "sns.scatterplot(x=\"total_bill\", y=\"tip\", data=tips)\n",
    "# Show plot\n",
    "plt.show()"
   ]
  },
  {
   "cell_type": "markdown",
   "metadata": {},
   "source": [
    "### Export .ipynb file to HTML\n",
    "- The command to export a Jupyter notebook to HTML must be run in a terminal or command prompt, not within the notebook itself.\n",
    "1. Open a terminal or command prompt\n",
    "2. ``cd`` Navigate to the folder where the notebook file you want to export is located\n",
    "3. Type the command `jupyter nbconvert --to html notebook_name.ipynb` , where notebook_name.ipynb is the name of the notebook file you want to export to HTML."
   ]
  }
 ],
 "metadata": {
  "kernelspec": {
   "display_name": "mlearn",
   "language": "python",
   "name": "python3"
  },
  "language_info": {
   "codemirror_mode": {
    "name": "ipython",
    "version": 3
   },
   "file_extension": ".py",
   "mimetype": "text/x-python",
   "name": "python",
   "nbconvert_exporter": "python",
   "pygments_lexer": "ipython3",
   "version": "3.8.16"
  },
  "orig_nbformat": 4
 },
 "nbformat": 4,
 "nbformat_minor": 2
}
